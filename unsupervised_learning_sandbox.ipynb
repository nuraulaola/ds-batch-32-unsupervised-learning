{
  "cells": [
    {
      "cell_type": "markdown",
      "metadata": {
        "id": "kuhQ9c9ubZxa"
      },
      "source": [
        "# Cluster Analysis"
      ]
    },
    {
      "cell_type": "markdown",
      "metadata": {
        "id": "7m5b7f9dbZxd"
      },
      "source": [
        "Consider this scenario:\n",
        "> Let's imagine that you are the owner of a mall. You want to held an annual promo to celebrate your mall's birthday. But of course your customer have their own preferences about what is the promo that they like, right? So you have to make a different promo for each behavioral group. You have a data about your member demography, such as gender, age, annual income, and spending score (score about your customer's behavior and purchasing data). Why doesn't you do a customer segmentation analysis?\n",
        "\n",
        "Let's do a customer segmentation analysis!"
      ]
    },
    {
      "cell_type": "markdown",
      "metadata": {
        "id": "SaQpShxBbZxe"
      },
      "source": [
        "## Prepare and explore the data"
      ]
    },
    {
      "cell_type": "markdown",
      "metadata": {
        "id": "h5RdSlKRbZxe"
      },
      "source": [
        "For this experiment, we will use [this](https://www.kaggle.com/vjchoudhary7/customer-segmentation-tutorial-in-python) data from Kaggle platform."
      ]
    },
    {
      "cell_type": "code",
      "execution_count": null,
      "metadata": {
        "id": "r9lin024bZxe"
      },
      "outputs": [],
      "source": [
        "# Package imports\n",
        "from sklearn.cluster import AgglomerativeClustering, KMeans\n",
        "from sklearn.metrics import silhouette_score\n",
        "from sklearn.preprocessing import MinMaxScaler, OneHotEncoder\n",
        "\n",
        "import matplotlib.pyplot as plt\n",
        "import numpy as np\n",
        "import pandas as pd\n",
        "import scipy.cluster.hierarchy as shc\n",
        "import seaborn as sns"
      ]
    },
    {
      "cell_type": "code",
      "execution_count": null,
      "metadata": {
        "id": "A6LMGhDWbZxf"
      },
      "outputs": [],
      "source": [
        "df = pd.read_csv('data/Mall_Customers.csv')\n",
        "\n",
        "# Rename the column to ease the analysis process\n",
        "df.columns = ['customer_id', 'gender', 'age', 'annual_income', 'spending_score']\n",
        "\n",
        "df.head()"
      ]
    },
    {
      "cell_type": "markdown",
      "metadata": {
        "id": "8mBco05cbZxg"
      },
      "source": [
        "Since the CustomerID is just our data identification, we could use this column as a rownames."
      ]
    },
    {
      "cell_type": "code",
      "execution_count": null,
      "metadata": {
        "id": "249yCyNzbZxg"
      },
      "outputs": [],
      "source": [
        "df = df.set_index('customer_id')"
      ]
    },
    {
      "cell_type": "markdown",
      "metadata": {
        "id": "_M9XHuSubZxg"
      },
      "source": [
        "Lets do some data exploration"
      ]
    },
    {
      "cell_type": "code",
      "execution_count": null,
      "metadata": {
        "id": "f0iXxAjSbZxg"
      },
      "outputs": [],
      "source": [
        "df.info()"
      ]
    },
    {
      "cell_type": "markdown",
      "metadata": {
        "id": "WEyR94brbZxh"
      },
      "source": [
        "The data contains 200 rows and 4 columns, each row represents a customer. The columns are:\n",
        "* `gender` - The customer's gender\n",
        "* `age` - The customer's age in year\n",
        "* `annual_income` - The customer's annual income in thousands dollar\n",
        "* `spending_score` - A score about the customer's behavior, range from 1 - 100"
      ]
    },
    {
      "cell_type": "code",
      "execution_count": null,
      "metadata": {
        "id": "MGkU9SK7bZxh"
      },
      "outputs": [],
      "source": [
        "df.groupby(['gender']).size()"
      ]
    },
    {
      "cell_type": "code",
      "execution_count": null,
      "metadata": {
        "scrolled": true,
        "id": "nsm8BxdwbZxh"
      },
      "outputs": [],
      "source": [
        "df.describe()"
      ]
    },
    {
      "cell_type": "markdown",
      "metadata": {
        "id": "uSr_EF5cbZxh"
      },
      "source": [
        "## Data preprocessing"
      ]
    },
    {
      "cell_type": "markdown",
      "metadata": {
        "id": "Qd0XrEgKbZxh"
      },
      "source": [
        "Since the k-means algorithm is a distance-based algorithm, it is better if we standardized the data before doing cluster analysis. Also, the function that we will use only accept numerical data as input so we will transform the `gender` feature."
      ]
    },
    {
      "cell_type": "code",
      "execution_count": null,
      "metadata": {
        "id": "UhCa6gLpbZxh"
      },
      "outputs": [],
      "source": [
        "# Transform gender feature\n",
        "\n",
        "df = df.assign(gender = [1 if gender == 'Male' else 0 for gender in df['gender']])"
      ]
    },
    {
      "cell_type": "code",
      "execution_count": null,
      "metadata": {
        "id": "6Nier85XbZxh"
      },
      "outputs": [],
      "source": [
        "# Data normalisasi\n",
        "\n",
        "scaler = MinMaxScaler().fit(df)\n",
        "\n",
        "features = ['gender', 'age', 'annual_income', 'spending_score']\n",
        "\n",
        "df_scaled = df.copy()\n",
        "df_scaled[features] = scaler.transform(df_scaled[features])\n",
        "\n",
        "df_scaled.head()"
      ]
    },
    {
      "cell_type": "markdown",
      "metadata": {
        "id": "UFqeIhjibZxh"
      },
      "source": [
        "## Modeling"
      ]
    },
    {
      "cell_type": "markdown",
      "metadata": {
        "id": "WJs7YSq9bZxh"
      },
      "source": [
        "### K-Means"
      ]
    },
    {
      "cell_type": "markdown",
      "metadata": {
        "id": "6aIyC9qEbZxh"
      },
      "source": [
        "First, let's just use the default parameter."
      ]
    },
    {
      "cell_type": "code",
      "execution_count": null,
      "metadata": {
        "id": "JFlsMOQQbZxh"
      },
      "outputs": [],
      "source": [
        "kmeans = KMeans(random_state = 123).fit(df_scaled)"
      ]
    },
    {
      "cell_type": "code",
      "execution_count": null,
      "metadata": {
        "id": "bEDidaZ9bZxi"
      },
      "outputs": [],
      "source": [
        "df_result = df.copy()\n",
        "df_result['cluster'] = kmeans.labels_"
      ]
    },
    {
      "cell_type": "code",
      "execution_count": null,
      "metadata": {
        "id": "ldv-MlsobZxi"
      },
      "outputs": [],
      "source": [
        "sns.pairplot(data = df_result, hue = 'cluster', diag_kind = 'None', palette = 'tab10')"
      ]
    },
    {
      "cell_type": "markdown",
      "metadata": {
        "id": "YumU7djEbZxi"
      },
      "source": [
        "The default number of cluster is 8. Using the default parameter, the cluster result is not distinctive for each cluster. Let's tune this parameter to get a better results."
      ]
    },
    {
      "cell_type": "markdown",
      "metadata": {
        "id": "4wA6utZ_bZxi"
      },
      "source": [
        "#### Elbow method"
      ]
    },
    {
      "cell_type": "code",
      "execution_count": null,
      "metadata": {
        "scrolled": true,
        "id": "qKSVzXWpbZxi"
      },
      "outputs": [],
      "source": [
        "possible_k = [2, 3, 4, 5, 6, 7, 8, 9, 10]\n",
        "inertia = []\n",
        "\n",
        "for k in possible_k:\n",
        "    kmeans = KMeans(n_clusters = k, random_state = 123).fit(df_scaled)\n",
        "\n",
        "    inertia.append(kmeans.inertia_)"
      ]
    },
    {
      "cell_type": "code",
      "execution_count": null,
      "metadata": {
        "id": "fIdKlCNnbZxi"
      },
      "outputs": [],
      "source": [
        "plt.plot(possible_k, inertia, 'bx-')\n",
        "plt.xlabel('Values of K')\n",
        "plt.ylabel('Inertia')\n",
        "plt.title('The Elbow Method using Inertia')\n",
        "plt.show()"
      ]
    },
    {
      "cell_type": "markdown",
      "metadata": {
        "id": "NKByXYR6bZxi"
      },
      "source": [
        "The picture above shows that the best k = 4."
      ]
    },
    {
      "cell_type": "markdown",
      "metadata": {
        "id": "dQNCobh-bZxi"
      },
      "source": [
        "#### Silhouette Score"
      ]
    },
    {
      "cell_type": "code",
      "execution_count": null,
      "metadata": {
        "scrolled": true,
        "id": "kvwb-H2tbZxi"
      },
      "outputs": [],
      "source": [
        "possible_k = [2, 3, 4, 5, 6, 7, 8, 9, 10]\n",
        "silhouette = []\n",
        "\n",
        "for k in possible_k:\n",
        "    kmeans = KMeans(n_clusters = k, random_state = 123).fit(df_scaled)\n",
        "\n",
        "    silhouette.append(silhouette_score(X = df_scaled, labels = kmeans.labels_))"
      ]
    },
    {
      "cell_type": "code",
      "execution_count": null,
      "metadata": {
        "scrolled": false,
        "id": "oCisxbmNbZxi"
      },
      "outputs": [],
      "source": [
        "plt.plot(possible_k, silhouette, 'bx-')\n",
        "plt.xlabel('Values of K')\n",
        "plt.ylabel('Silhouette Score')\n",
        "plt.title('Silhouette Score Method')\n",
        "plt.show()"
      ]
    },
    {
      "cell_type": "markdown",
      "metadata": {
        "id": "WF6nKzoCbZxi"
      },
      "source": [
        "Using silhouette score, the best k = 2."
      ]
    },
    {
      "cell_type": "markdown",
      "metadata": {
        "id": "14JwjXZhbZxi"
      },
      "source": [
        "#### Compare the results"
      ]
    },
    {
      "cell_type": "code",
      "execution_count": null,
      "metadata": {
        "scrolled": false,
        "id": "XyUfeF7ubZxi"
      },
      "outputs": [],
      "source": [
        "# 2 clusters\n",
        "\n",
        "kmeans_2clust = KMeans(n_clusters = 2, random_state = 123).fit(df_scaled)\n",
        "\n",
        "df_result_2clust = df.copy()\n",
        "df_result_2clust['cluster'] = kmeans_2clust.labels_\n",
        "\n",
        "_ = sns.pairplot(data = df_result_2clust, hue = 'cluster', diag_kind = 'None', palette = 'tab10')\n",
        "plt.show()"
      ]
    },
    {
      "cell_type": "code",
      "execution_count": null,
      "metadata": {
        "scrolled": false,
        "id": "9D4J9fiTbZxj"
      },
      "outputs": [],
      "source": [
        "# 4 clusters\n",
        "\n",
        "kmeans_4clust = KMeans(n_clusters = 4, random_state = 123).fit(df_scaled)\n",
        "\n",
        "df_result_4clust = df.copy()\n",
        "df_result_4clust['cluster'] = kmeans_4clust.labels_\n",
        "\n",
        "_ = sns.pairplot(data = df_result_4clust, hue = 'cluster', diag_kind = 'None', palette = 'tab10')\n",
        "plt.show()"
      ]
    },
    {
      "cell_type": "markdown",
      "metadata": {
        "id": "AB43FZtibZxj"
      },
      "source": [
        "What do you think? What is the best k parameter?"
      ]
    },
    {
      "cell_type": "markdown",
      "metadata": {
        "id": "L41kyZn-bZxj"
      },
      "source": [
        "### Hierarchical Clustering"
      ]
    },
    {
      "cell_type": "markdown",
      "metadata": {
        "id": "ay56wuFrbZxj"
      },
      "source": [
        "Before we cluster the data, we could plot the dendrogram first to help us decide the number of cluster for this particular problem."
      ]
    },
    {
      "cell_type": "code",
      "execution_count": null,
      "metadata": {
        "id": "8vkI43zUbZxj"
      },
      "outputs": [],
      "source": [
        "plt.figure(figsize=(16, 7))\n",
        "plt.title(\"Dendrograms\")\n",
        "\n",
        "dend = shc.dendrogram(shc.linkage(df_scaled, method='ward'))"
      ]
    },
    {
      "cell_type": "markdown",
      "metadata": {
        "id": "h-mVRV8wbZxm"
      },
      "source": [
        "From the picture above, we could see that the vertical line with the maximum distance is the blue line. Hence, we could set the threshold of 6 and cut the dendrogram."
      ]
    },
    {
      "cell_type": "code",
      "execution_count": null,
      "metadata": {
        "scrolled": false,
        "id": "tBjbzWdxbZxn"
      },
      "outputs": [],
      "source": [
        "plt.figure(figsize=(16, 7))\n",
        "plt.title(\"Dendrograms\")\n",
        "\n",
        "dend = shc.dendrogram(shc.linkage(df_scaled, method='ward'))\n",
        "_ = plt.axhline(y=6, color='r', linestyle='--')\n",
        "plt.show()"
      ]
    },
    {
      "cell_type": "code",
      "execution_count": null,
      "metadata": {
        "scrolled": false,
        "id": "rdKXfMGVbZxn"
      },
      "outputs": [],
      "source": [
        "AggClust = AgglomerativeClustering(n_clusters=2, affinity='euclidean', linkage='ward').fit(df_scaled)\n",
        "\n",
        "df_result_AggClust = df.copy()\n",
        "df_result_AggClust['cluster'] = AggClust.labels_\n",
        "\n",
        "_= sns.pairplot(data = df_result_AggClust, hue = 'cluster', diag_kind = 'None', palette = 'tab10')\n",
        "plt.show()"
      ]
    }
  ],
  "metadata": {
    "kernelspec": {
      "display_name": "Python 3 (ipykernel)",
      "language": "python",
      "name": "python3"
    },
    "language_info": {
      "codemirror_mode": {
        "name": "ipython",
        "version": 3
      },
      "file_extension": ".py",
      "mimetype": "text/x-python",
      "name": "python",
      "nbconvert_exporter": "python",
      "pygments_lexer": "ipython3",
      "version": "3.11.3"
    },
    "colab": {
      "provenance": []
    }
  },
  "nbformat": 4,
  "nbformat_minor": 0
}